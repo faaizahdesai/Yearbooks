{
 "cells": [
  {
   "cell_type": "code",
   "execution_count": 233,
   "metadata": {},
   "outputs": [],
   "source": [
    "import pandas as pd"
   ]
  },
  {
   "cell_type": "code",
   "execution_count": 234,
   "metadata": {},
   "outputs": [],
   "source": [
    "import numpy as np"
   ]
  },
  {
   "cell_type": "code",
   "execution_count": 235,
   "metadata": {},
   "outputs": [],
   "source": [
    "df = pd.read_excel (r'/Users/faaizahdesai/Desktop/me2010.xlsx', sheet_name = '2010')"
   ]
  },
  {
   "cell_type": "code",
   "execution_count": 236,
   "metadata": {},
   "outputs": [],
   "source": [
    "df2 = pd.read_excel (r'/Users/faaizahdesai/Desktop/them2010.xlsx', sheet_name = '2010')"
   ]
  },
  {
   "cell_type": "code",
   "execution_count": 237,
   "metadata": {},
   "outputs": [],
   "source": [
    "pd.set_option(\"display.max_rows\", None, \"display.max_columns\", None)"
   ]
  },
  {
   "cell_type": "code",
   "execution_count": 238,
   "metadata": {},
   "outputs": [],
   "source": [
    "df_ss1 = df.sort_values(by = ['State','School']).reset_index()"
   ]
  },
  {
   "cell_type": "code",
   "execution_count": 239,
   "metadata": {},
   "outputs": [
    {
     "data": {
      "text/html": [
       "<div>\n",
       "<style scoped>\n",
       "    .dataframe tbody tr th:only-of-type {\n",
       "        vertical-align: middle;\n",
       "    }\n",
       "\n",
       "    .dataframe tbody tr th {\n",
       "        vertical-align: top;\n",
       "    }\n",
       "\n",
       "    .dataframe thead th {\n",
       "        text-align: right;\n",
       "    }\n",
       "</style>\n",
       "<table border=\"1\" class=\"dataframe\">\n",
       "  <thead>\n",
       "    <tr style=\"text-align: right;\">\n",
       "      <th></th>\n",
       "      <th>index</th>\n",
       "      <th>State</th>\n",
       "      <th>School</th>\n",
       "      <th>#Full-Time Applicants</th>\n",
       "      <th>#Part-Time Applicants</th>\n",
       "      <th># of Offers</th>\n",
       "      <th># of Matriculants</th>\n",
       "    </tr>\n",
       "  </thead>\n",
       "  <tbody>\n",
       "    <tr>\n",
       "      <th>0</th>\n",
       "      <td>0</td>\n",
       "      <td>Alabama</td>\n",
       "      <td>Alabama</td>\n",
       "      <td>1276.0</td>\n",
       "      <td>0.0</td>\n",
       "      <td>424</td>\n",
       "      <td>154</td>\n",
       "    </tr>\n",
       "    <tr>\n",
       "      <th>1</th>\n",
       "      <td>1</td>\n",
       "      <td>Alabama</td>\n",
       "      <td>Faulkner</td>\n",
       "      <td>589.0</td>\n",
       "      <td>0.0</td>\n",
       "      <td>323</td>\n",
       "      <td>126</td>\n",
       "    </tr>\n",
       "    <tr>\n",
       "      <th>2</th>\n",
       "      <td>2</td>\n",
       "      <td>Alabama</td>\n",
       "      <td>Samford</td>\n",
       "      <td>1105.0</td>\n",
       "      <td>0.0</td>\n",
       "      <td>519</td>\n",
       "      <td>162</td>\n",
       "    </tr>\n",
       "    <tr>\n",
       "      <th>3</th>\n",
       "      <td>3</td>\n",
       "      <td>Arizona</td>\n",
       "      <td>Arizona</td>\n",
       "      <td>2242.0</td>\n",
       "      <td>0.0</td>\n",
       "      <td>756</td>\n",
       "      <td>160</td>\n",
       "    </tr>\n",
       "    <tr>\n",
       "      <th>4</th>\n",
       "      <td>4</td>\n",
       "      <td>Arizona</td>\n",
       "      <td>Arizona State</td>\n",
       "      <td>2736.0</td>\n",
       "      <td>0.0</td>\n",
       "      <td>757</td>\n",
       "      <td>181</td>\n",
       "    </tr>\n",
       "  </tbody>\n",
       "</table>\n",
       "</div>"
      ],
      "text/plain": [
       "   index    State         School  #Full-Time Applicants  \\\n",
       "0      0  Alabama        Alabama                 1276.0   \n",
       "1      1  Alabama       Faulkner                  589.0   \n",
       "2      2  Alabama        Samford                 1105.0   \n",
       "3      3  Arizona        Arizona                 2242.0   \n",
       "4      4  Arizona  Arizona State                 2736.0   \n",
       "\n",
       "   #Part-Time Applicants  # of Offers  # of Matriculants  \n",
       "0                    0.0          424                154  \n",
       "1                    0.0          323                126  \n",
       "2                    0.0          519                162  \n",
       "3                    0.0          756                160  \n",
       "4                    0.0          757                181  "
      ]
     },
     "execution_count": 239,
     "metadata": {},
     "output_type": "execute_result"
    }
   ],
   "source": [
    "df_ss1.head()"
   ]
  },
  {
   "cell_type": "code",
   "execution_count": 240,
   "metadata": {},
   "outputs": [],
   "source": [
    "df_ss2 = df2.sort_values(by = ['State','School']).reset_index()"
   ]
  },
  {
   "cell_type": "code",
   "execution_count": 241,
   "metadata": {},
   "outputs": [
    {
     "data": {
      "text/html": [
       "<div>\n",
       "<style scoped>\n",
       "    .dataframe tbody tr th:only-of-type {\n",
       "        vertical-align: middle;\n",
       "    }\n",
       "\n",
       "    .dataframe tbody tr th {\n",
       "        vertical-align: top;\n",
       "    }\n",
       "\n",
       "    .dataframe thead th {\n",
       "        text-align: right;\n",
       "    }\n",
       "</style>\n",
       "<table border=\"1\" class=\"dataframe\">\n",
       "  <thead>\n",
       "    <tr style=\"text-align: right;\">\n",
       "      <th></th>\n",
       "      <th>index</th>\n",
       "      <th>State</th>\n",
       "      <th>School</th>\n",
       "      <th># Full-Time Applicants</th>\n",
       "      <th># Part-Time Applicants</th>\n",
       "      <th># of Offers</th>\n",
       "      <th># of Matriculants</th>\n",
       "    </tr>\n",
       "  </thead>\n",
       "  <tbody>\n",
       "    <tr>\n",
       "      <th>0</th>\n",
       "      <td>0</td>\n",
       "      <td>Alabama</td>\n",
       "      <td>Alabama</td>\n",
       "      <td>1276.0</td>\n",
       "      <td>0.0</td>\n",
       "      <td>424</td>\n",
       "      <td>154</td>\n",
       "    </tr>\n",
       "    <tr>\n",
       "      <th>1</th>\n",
       "      <td>1</td>\n",
       "      <td>Alabama</td>\n",
       "      <td>Faulkner</td>\n",
       "      <td>589.0</td>\n",
       "      <td>0.0</td>\n",
       "      <td>323</td>\n",
       "      <td>126</td>\n",
       "    </tr>\n",
       "    <tr>\n",
       "      <th>2</th>\n",
       "      <td>2</td>\n",
       "      <td>Alabama</td>\n",
       "      <td>Samford</td>\n",
       "      <td>1105.0</td>\n",
       "      <td>0.0</td>\n",
       "      <td>519</td>\n",
       "      <td>162</td>\n",
       "    </tr>\n",
       "    <tr>\n",
       "      <th>3</th>\n",
       "      <td>3</td>\n",
       "      <td>Arizona</td>\n",
       "      <td>Arizona</td>\n",
       "      <td>2242.0</td>\n",
       "      <td>0.0</td>\n",
       "      <td>756</td>\n",
       "      <td>160</td>\n",
       "    </tr>\n",
       "    <tr>\n",
       "      <th>4</th>\n",
       "      <td>4</td>\n",
       "      <td>Arizona</td>\n",
       "      <td>Arizona State</td>\n",
       "      <td>2736.0</td>\n",
       "      <td>0.0</td>\n",
       "      <td>757</td>\n",
       "      <td>181</td>\n",
       "    </tr>\n",
       "  </tbody>\n",
       "</table>\n",
       "</div>"
      ],
      "text/plain": [
       "   index    State         School  # Full-Time Applicants  \\\n",
       "0      0  Alabama        Alabama                  1276.0   \n",
       "1      1  Alabama       Faulkner                   589.0   \n",
       "2      2  Alabama        Samford                  1105.0   \n",
       "3      3  Arizona        Arizona                  2242.0   \n",
       "4      4  Arizona  Arizona State                  2736.0   \n",
       "\n",
       "   # Part-Time Applicants  # of Offers  # of Matriculants  \n",
       "0                     0.0          424                154  \n",
       "1                     0.0          323                126  \n",
       "2                     0.0          519                162  \n",
       "3                     0.0          756                160  \n",
       "4                     0.0          757                181  "
      ]
     },
     "execution_count": 241,
     "metadata": {},
     "output_type": "execute_result"
    }
   ],
   "source": [
    "df_ss2.head()"
   ]
  },
  {
   "cell_type": "code",
   "execution_count": 242,
   "metadata": {},
   "outputs": [],
   "source": [
    "df_ss2.to_csv('df_ss2.csv')"
   ]
  },
  {
   "cell_type": "code",
   "execution_count": 243,
   "metadata": {},
   "outputs": [],
   "source": [
    "df_ss1.to_csv('df_ss1.csv')"
   ]
  },
  {
   "cell_type": "code",
   "execution_count": 244,
   "metadata": {},
   "outputs": [],
   "source": [
    "df_ss1['State2']=df_ss2['State']"
   ]
  },
  {
   "cell_type": "code",
   "execution_count": 245,
   "metadata": {},
   "outputs": [],
   "source": [
    "df_ss1['School2']=df_ss2['School']"
   ]
  },
  {
   "cell_type": "code",
   "execution_count": 246,
   "metadata": {},
   "outputs": [],
   "source": [
    "df_ss1['# Full-Time Applicants2']=df_ss2['# Full-Time Applicants']"
   ]
  },
  {
   "cell_type": "code",
   "execution_count": 247,
   "metadata": {},
   "outputs": [],
   "source": [
    "df_ss1['# Part-Time Applicants2']=df_ss2['# Part-Time Applicants']"
   ]
  },
  {
   "cell_type": "code",
   "execution_count": 248,
   "metadata": {},
   "outputs": [],
   "source": [
    "df_ss1['# of Offers2']=df_ss2['# of Offers']"
   ]
  },
  {
   "cell_type": "code",
   "execution_count": 249,
   "metadata": {},
   "outputs": [],
   "source": [
    "df_ss1['# of Matriculants2']=df_ss2['# of Matriculants']"
   ]
  },
  {
   "cell_type": "code",
   "execution_count": 250,
   "metadata": {},
   "outputs": [
    {
     "data": {
      "text/html": [
       "<div>\n",
       "<style scoped>\n",
       "    .dataframe tbody tr th:only-of-type {\n",
       "        vertical-align: middle;\n",
       "    }\n",
       "\n",
       "    .dataframe tbody tr th {\n",
       "        vertical-align: top;\n",
       "    }\n",
       "\n",
       "    .dataframe thead th {\n",
       "        text-align: right;\n",
       "    }\n",
       "</style>\n",
       "<table border=\"1\" class=\"dataframe\">\n",
       "  <thead>\n",
       "    <tr style=\"text-align: right;\">\n",
       "      <th></th>\n",
       "      <th>index</th>\n",
       "      <th>State</th>\n",
       "      <th>School</th>\n",
       "      <th>#Full-Time Applicants</th>\n",
       "      <th>#Part-Time Applicants</th>\n",
       "      <th># of Offers</th>\n",
       "      <th># of Matriculants</th>\n",
       "      <th>State2</th>\n",
       "      <th>School2</th>\n",
       "      <th># Full-Time Applicants2</th>\n",
       "      <th># Part-Time Applicants2</th>\n",
       "      <th># of Offers2</th>\n",
       "      <th># of Matriculants2</th>\n",
       "    </tr>\n",
       "  </thead>\n",
       "  <tbody>\n",
       "    <tr>\n",
       "      <th>0</th>\n",
       "      <td>0</td>\n",
       "      <td>Alabama</td>\n",
       "      <td>Alabama</td>\n",
       "      <td>1276.0</td>\n",
       "      <td>0.0</td>\n",
       "      <td>424</td>\n",
       "      <td>154</td>\n",
       "      <td>Alabama</td>\n",
       "      <td>Alabama</td>\n",
       "      <td>1276.0</td>\n",
       "      <td>0.0</td>\n",
       "      <td>424</td>\n",
       "      <td>154</td>\n",
       "    </tr>\n",
       "    <tr>\n",
       "      <th>1</th>\n",
       "      <td>1</td>\n",
       "      <td>Alabama</td>\n",
       "      <td>Faulkner</td>\n",
       "      <td>589.0</td>\n",
       "      <td>0.0</td>\n",
       "      <td>323</td>\n",
       "      <td>126</td>\n",
       "      <td>Alabama</td>\n",
       "      <td>Faulkner</td>\n",
       "      <td>589.0</td>\n",
       "      <td>0.0</td>\n",
       "      <td>323</td>\n",
       "      <td>126</td>\n",
       "    </tr>\n",
       "    <tr>\n",
       "      <th>2</th>\n",
       "      <td>2</td>\n",
       "      <td>Alabama</td>\n",
       "      <td>Samford</td>\n",
       "      <td>1105.0</td>\n",
       "      <td>0.0</td>\n",
       "      <td>519</td>\n",
       "      <td>162</td>\n",
       "      <td>Alabama</td>\n",
       "      <td>Samford</td>\n",
       "      <td>1105.0</td>\n",
       "      <td>0.0</td>\n",
       "      <td>519</td>\n",
       "      <td>162</td>\n",
       "    </tr>\n",
       "    <tr>\n",
       "      <th>3</th>\n",
       "      <td>3</td>\n",
       "      <td>Arizona</td>\n",
       "      <td>Arizona</td>\n",
       "      <td>2242.0</td>\n",
       "      <td>0.0</td>\n",
       "      <td>756</td>\n",
       "      <td>160</td>\n",
       "      <td>Arizona</td>\n",
       "      <td>Arizona</td>\n",
       "      <td>2242.0</td>\n",
       "      <td>0.0</td>\n",
       "      <td>756</td>\n",
       "      <td>160</td>\n",
       "    </tr>\n",
       "    <tr>\n",
       "      <th>4</th>\n",
       "      <td>4</td>\n",
       "      <td>Arizona</td>\n",
       "      <td>Arizona State</td>\n",
       "      <td>2736.0</td>\n",
       "      <td>0.0</td>\n",
       "      <td>757</td>\n",
       "      <td>181</td>\n",
       "      <td>Arizona</td>\n",
       "      <td>Arizona State</td>\n",
       "      <td>2736.0</td>\n",
       "      <td>0.0</td>\n",
       "      <td>757</td>\n",
       "      <td>181</td>\n",
       "    </tr>\n",
       "  </tbody>\n",
       "</table>\n",
       "</div>"
      ],
      "text/plain": [
       "   index    State         School  #Full-Time Applicants  \\\n",
       "0      0  Alabama        Alabama                 1276.0   \n",
       "1      1  Alabama       Faulkner                  589.0   \n",
       "2      2  Alabama        Samford                 1105.0   \n",
       "3      3  Arizona        Arizona                 2242.0   \n",
       "4      4  Arizona  Arizona State                 2736.0   \n",
       "\n",
       "   #Part-Time Applicants  # of Offers  # of Matriculants   State2  \\\n",
       "0                    0.0          424                154  Alabama   \n",
       "1                    0.0          323                126  Alabama   \n",
       "2                    0.0          519                162  Alabama   \n",
       "3                    0.0          756                160  Arizona   \n",
       "4                    0.0          757                181  Arizona   \n",
       "\n",
       "         School2  # Full-Time Applicants2  # Part-Time Applicants2  \\\n",
       "0        Alabama                   1276.0                      0.0   \n",
       "1       Faulkner                    589.0                      0.0   \n",
       "2        Samford                   1105.0                      0.0   \n",
       "3        Arizona                   2242.0                      0.0   \n",
       "4  Arizona State                   2736.0                      0.0   \n",
       "\n",
       "   # of Offers2  # of Matriculants2  \n",
       "0           424                 154  \n",
       "1           323                 126  \n",
       "2           519                 162  \n",
       "3           756                 160  \n",
       "4           757                 181  "
      ]
     },
     "execution_count": 250,
     "metadata": {},
     "output_type": "execute_result"
    }
   ],
   "source": [
    "df_ss1.head()"
   ]
  },
  {
   "cell_type": "code",
   "execution_count": 251,
   "metadata": {},
   "outputs": [
    {
     "data": {
      "text/html": [
       "<div>\n",
       "<style scoped>\n",
       "    .dataframe tbody tr th:only-of-type {\n",
       "        vertical-align: middle;\n",
       "    }\n",
       "\n",
       "    .dataframe tbody tr th {\n",
       "        vertical-align: top;\n",
       "    }\n",
       "\n",
       "    .dataframe thead th {\n",
       "        text-align: right;\n",
       "    }\n",
       "</style>\n",
       "<table border=\"1\" class=\"dataframe\">\n",
       "  <thead>\n",
       "    <tr style=\"text-align: right;\">\n",
       "      <th></th>\n",
       "      <th>index</th>\n",
       "      <th>State</th>\n",
       "      <th>School</th>\n",
       "      <th>#Full-Time Applicants</th>\n",
       "      <th>#Part-Time Applicants</th>\n",
       "      <th># of Offers</th>\n",
       "      <th># of Matriculants</th>\n",
       "      <th>State2</th>\n",
       "      <th>School2</th>\n",
       "      <th># Full-Time Applicants2</th>\n",
       "      <th># Part-Time Applicants2</th>\n",
       "      <th># of Offers2</th>\n",
       "      <th># of Matriculants2</th>\n",
       "    </tr>\n",
       "  </thead>\n",
       "  <tbody>\n",
       "  </tbody>\n",
       "</table>\n",
       "</div>"
      ],
      "text/plain": [
       "Empty DataFrame\n",
       "Columns: [index, State, School, #Full-Time Applicants, #Part-Time Applicants, # of Offers, # of Matriculants, State2, School2, # Full-Time Applicants2, # Part-Time Applicants2, # of Offers2, # of Matriculants2]\n",
       "Index: []"
      ]
     },
     "execution_count": 251,
     "metadata": {},
     "output_type": "execute_result"
    }
   ],
   "source": [
    "(df_ss1[df_ss1['School']!=df_ss1['School2']]) "
   ]
  },
  {
   "cell_type": "code",
   "execution_count": 252,
   "metadata": {},
   "outputs": [
    {
     "data": {
      "text/html": [
       "<div>\n",
       "<style scoped>\n",
       "    .dataframe tbody tr th:only-of-type {\n",
       "        vertical-align: middle;\n",
       "    }\n",
       "\n",
       "    .dataframe tbody tr th {\n",
       "        vertical-align: top;\n",
       "    }\n",
       "\n",
       "    .dataframe thead th {\n",
       "        text-align: right;\n",
       "    }\n",
       "</style>\n",
       "<table border=\"1\" class=\"dataframe\">\n",
       "  <thead>\n",
       "    <tr style=\"text-align: right;\">\n",
       "      <th></th>\n",
       "      <th>index</th>\n",
       "      <th>State</th>\n",
       "      <th>School</th>\n",
       "      <th>#Full-Time Applicants</th>\n",
       "      <th>#Part-Time Applicants</th>\n",
       "      <th># of Offers</th>\n",
       "      <th># of Matriculants</th>\n",
       "      <th>State2</th>\n",
       "      <th>School2</th>\n",
       "      <th># Full-Time Applicants2</th>\n",
       "      <th># Part-Time Applicants2</th>\n",
       "      <th># of Offers2</th>\n",
       "      <th># of Matriculants2</th>\n",
       "    </tr>\n",
       "  </thead>\n",
       "  <tbody>\n",
       "    <tr>\n",
       "      <th>37</th>\n",
       "      <td>37</td>\n",
       "      <td>District of Columbia</td>\n",
       "      <td>George Washington</td>\n",
       "      <td>NaN</td>\n",
       "      <td>NaN</td>\n",
       "      <td>2087</td>\n",
       "      <td>517</td>\n",
       "      <td>District of Columbia</td>\n",
       "      <td>George Washington</td>\n",
       "      <td>NaN</td>\n",
       "      <td>NaN</td>\n",
       "      <td>2087</td>\n",
       "      <td>517</td>\n",
       "    </tr>\n",
       "  </tbody>\n",
       "</table>\n",
       "</div>"
      ],
      "text/plain": [
       "    index                 State             School  #Full-Time Applicants  \\\n",
       "37     37  District of Columbia  George Washington                    NaN   \n",
       "\n",
       "    #Part-Time Applicants  # of Offers  # of Matriculants  \\\n",
       "37                    NaN         2087                517   \n",
       "\n",
       "                  State2            School2  # Full-Time Applicants2  \\\n",
       "37  District of Columbia  George Washington                      NaN   \n",
       "\n",
       "    # Part-Time Applicants2  # of Offers2  # of Matriculants2  \n",
       "37                      NaN          2087                 517  "
      ]
     },
     "execution_count": 252,
     "metadata": {},
     "output_type": "execute_result"
    }
   ],
   "source": [
    "(df_ss1[df_ss1['#Full-Time Applicants']!=df_ss1['# Full-Time Applicants2']]) "
   ]
  },
  {
   "cell_type": "code",
   "execution_count": 253,
   "metadata": {},
   "outputs": [
    {
     "data": {
      "text/html": [
       "<div>\n",
       "<style scoped>\n",
       "    .dataframe tbody tr th:only-of-type {\n",
       "        vertical-align: middle;\n",
       "    }\n",
       "\n",
       "    .dataframe tbody tr th {\n",
       "        vertical-align: top;\n",
       "    }\n",
       "\n",
       "    .dataframe thead th {\n",
       "        text-align: right;\n",
       "    }\n",
       "</style>\n",
       "<table border=\"1\" class=\"dataframe\">\n",
       "  <thead>\n",
       "    <tr style=\"text-align: right;\">\n",
       "      <th></th>\n",
       "      <th>index</th>\n",
       "      <th>State</th>\n",
       "      <th>School</th>\n",
       "      <th>#Full-Time Applicants</th>\n",
       "      <th>#Part-Time Applicants</th>\n",
       "      <th># of Offers</th>\n",
       "      <th># of Matriculants</th>\n",
       "      <th>State2</th>\n",
       "      <th>School2</th>\n",
       "      <th># Full-Time Applicants2</th>\n",
       "      <th># Part-Time Applicants2</th>\n",
       "      <th># of Offers2</th>\n",
       "      <th># of Matriculants2</th>\n",
       "    </tr>\n",
       "  </thead>\n",
       "  <tbody>\n",
       "    <tr>\n",
       "      <th>37</th>\n",
       "      <td>37</td>\n",
       "      <td>District of Columbia</td>\n",
       "      <td>George Washington</td>\n",
       "      <td>NaN</td>\n",
       "      <td>NaN</td>\n",
       "      <td>2087</td>\n",
       "      <td>517</td>\n",
       "      <td>District of Columbia</td>\n",
       "      <td>George Washington</td>\n",
       "      <td>NaN</td>\n",
       "      <td>NaN</td>\n",
       "      <td>2087</td>\n",
       "      <td>517</td>\n",
       "    </tr>\n",
       "  </tbody>\n",
       "</table>\n",
       "</div>"
      ],
      "text/plain": [
       "    index                 State             School  #Full-Time Applicants  \\\n",
       "37     37  District of Columbia  George Washington                    NaN   \n",
       "\n",
       "    #Part-Time Applicants  # of Offers  # of Matriculants  \\\n",
       "37                    NaN         2087                517   \n",
       "\n",
       "                  State2            School2  # Full-Time Applicants2  \\\n",
       "37  District of Columbia  George Washington                      NaN   \n",
       "\n",
       "    # Part-Time Applicants2  # of Offers2  # of Matriculants2  \n",
       "37                      NaN          2087                 517  "
      ]
     },
     "execution_count": 253,
     "metadata": {},
     "output_type": "execute_result"
    }
   ],
   "source": [
    "(df_ss1[df_ss1['#Part-Time Applicants']!=df_ss1['# Part-Time Applicants2']]) "
   ]
  },
  {
   "cell_type": "code",
   "execution_count": 254,
   "metadata": {},
   "outputs": [
    {
     "data": {
      "text/html": [
       "<div>\n",
       "<style scoped>\n",
       "    .dataframe tbody tr th:only-of-type {\n",
       "        vertical-align: middle;\n",
       "    }\n",
       "\n",
       "    .dataframe tbody tr th {\n",
       "        vertical-align: top;\n",
       "    }\n",
       "\n",
       "    .dataframe thead th {\n",
       "        text-align: right;\n",
       "    }\n",
       "</style>\n",
       "<table border=\"1\" class=\"dataframe\">\n",
       "  <thead>\n",
       "    <tr style=\"text-align: right;\">\n",
       "      <th></th>\n",
       "      <th>index</th>\n",
       "      <th>State</th>\n",
       "      <th>School</th>\n",
       "      <th>#Full-Time Applicants</th>\n",
       "      <th>#Part-Time Applicants</th>\n",
       "      <th># of Offers</th>\n",
       "      <th># of Matriculants</th>\n",
       "      <th>State2</th>\n",
       "      <th>School2</th>\n",
       "      <th># Full-Time Applicants2</th>\n",
       "      <th># Part-Time Applicants2</th>\n",
       "      <th># of Offers2</th>\n",
       "      <th># of Matriculants2</th>\n",
       "    </tr>\n",
       "  </thead>\n",
       "  <tbody>\n",
       "  </tbody>\n",
       "</table>\n",
       "</div>"
      ],
      "text/plain": [
       "Empty DataFrame\n",
       "Columns: [index, State, School, #Full-Time Applicants, #Part-Time Applicants, # of Offers, # of Matriculants, State2, School2, # Full-Time Applicants2, # Part-Time Applicants2, # of Offers2, # of Matriculants2]\n",
       "Index: []"
      ]
     },
     "execution_count": 254,
     "metadata": {},
     "output_type": "execute_result"
    }
   ],
   "source": [
    "(df_ss1[df_ss1['# of Offers']!=df_ss1['# of Offers2']]) "
   ]
  },
  {
   "cell_type": "code",
   "execution_count": 255,
   "metadata": {},
   "outputs": [
    {
     "data": {
      "text/html": [
       "<div>\n",
       "<style scoped>\n",
       "    .dataframe tbody tr th:only-of-type {\n",
       "        vertical-align: middle;\n",
       "    }\n",
       "\n",
       "    .dataframe tbody tr th {\n",
       "        vertical-align: top;\n",
       "    }\n",
       "\n",
       "    .dataframe thead th {\n",
       "        text-align: right;\n",
       "    }\n",
       "</style>\n",
       "<table border=\"1\" class=\"dataframe\">\n",
       "  <thead>\n",
       "    <tr style=\"text-align: right;\">\n",
       "      <th></th>\n",
       "      <th>index</th>\n",
       "      <th>State</th>\n",
       "      <th>School</th>\n",
       "      <th>#Full-Time Applicants</th>\n",
       "      <th>#Part-Time Applicants</th>\n",
       "      <th># of Offers</th>\n",
       "      <th># of Matriculants</th>\n",
       "      <th>State2</th>\n",
       "      <th>School2</th>\n",
       "      <th># Full-Time Applicants2</th>\n",
       "      <th># Part-Time Applicants2</th>\n",
       "      <th># of Offers2</th>\n",
       "      <th># of Matriculants2</th>\n",
       "    </tr>\n",
       "  </thead>\n",
       "  <tbody>\n",
       "  </tbody>\n",
       "</table>\n",
       "</div>"
      ],
      "text/plain": [
       "Empty DataFrame\n",
       "Columns: [index, State, School, #Full-Time Applicants, #Part-Time Applicants, # of Offers, # of Matriculants, State2, School2, # Full-Time Applicants2, # Part-Time Applicants2, # of Offers2, # of Matriculants2]\n",
       "Index: []"
      ]
     },
     "execution_count": 255,
     "metadata": {},
     "output_type": "execute_result"
    }
   ],
   "source": [
    "(df_ss1[df_ss1['# of Matriculants']!=df_ss1['# of Matriculants2']]) "
   ]
  },
  {
   "cell_type": "code",
   "execution_count": null,
   "metadata": {},
   "outputs": [],
   "source": []
  }
 ],
 "metadata": {
  "kernelspec": {
   "display_name": "Python 3",
   "language": "python",
   "name": "python3"
  },
  "language_info": {
   "codemirror_mode": {
    "name": "ipython",
    "version": 3
   },
   "file_extension": ".py",
   "mimetype": "text/x-python",
   "name": "python",
   "nbconvert_exporter": "python",
   "pygments_lexer": "ipython3",
   "version": "3.7.3"
  }
 },
 "nbformat": 4,
 "nbformat_minor": 2
}
