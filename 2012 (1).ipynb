{
 "cells": [
  {
   "cell_type": "code",
   "execution_count": 131,
   "metadata": {},
   "outputs": [],
   "source": [
    "import pandas as pd"
   ]
  },
  {
   "cell_type": "code",
   "execution_count": 132,
   "metadata": {},
   "outputs": [],
   "source": [
    "import numpy as np"
   ]
  },
  {
   "cell_type": "code",
   "execution_count": 133,
   "metadata": {},
   "outputs": [],
   "source": [
    "df = pd.read_excel (r'/Users/faaizahdesai/Desktop/me2012.xlsx', sheet_name = 'Sheet1')"
   ]
  },
  {
   "cell_type": "code",
   "execution_count": 134,
   "metadata": {},
   "outputs": [],
   "source": [
    "df2 = pd.read_excel (r'/Users/faaizahdesai/Desktop/them2012.xlsx', sheet_name = '2012')"
   ]
  },
  {
   "cell_type": "code",
   "execution_count": 135,
   "metadata": {},
   "outputs": [],
   "source": [
    "pd.set_option(\"display.max_rows\", None, \"display.max_columns\", None)"
   ]
  },
  {
   "cell_type": "code",
   "execution_count": 136,
   "metadata": {},
   "outputs": [],
   "source": [
    "df_ss1 = df.sort_values(by = ['State','School']).reset_index()"
   ]
  },
  {
   "cell_type": "code",
   "execution_count": 137,
   "metadata": {},
   "outputs": [
    {
     "data": {
      "text/html": [
       "<div>\n",
       "<style scoped>\n",
       "    .dataframe tbody tr th:only-of-type {\n",
       "        vertical-align: middle;\n",
       "    }\n",
       "\n",
       "    .dataframe tbody tr th {\n",
       "        vertical-align: top;\n",
       "    }\n",
       "\n",
       "    .dataframe thead th {\n",
       "        text-align: right;\n",
       "    }\n",
       "</style>\n",
       "<table border=\"1\" class=\"dataframe\">\n",
       "  <thead>\n",
       "    <tr style=\"text-align: right;\">\n",
       "      <th></th>\n",
       "      <th>index</th>\n",
       "      <th>State</th>\n",
       "      <th>School</th>\n",
       "      <th># Full-Time Applicants</th>\n",
       "      <th># Part-Time Applicants</th>\n",
       "      <th># of Offers</th>\n",
       "      <th># of Matriculants</th>\n",
       "    </tr>\n",
       "  </thead>\n",
       "  <tbody>\n",
       "    <tr>\n",
       "      <th>0</th>\n",
       "      <td>0</td>\n",
       "      <td>Alabama</td>\n",
       "      <td>Alabama</td>\n",
       "      <td>2384</td>\n",
       "      <td>0.0</td>\n",
       "      <td>543</td>\n",
       "      <td>161</td>\n",
       "    </tr>\n",
       "    <tr>\n",
       "      <th>1</th>\n",
       "      <td>1</td>\n",
       "      <td>Alabama</td>\n",
       "      <td>Faulkner</td>\n",
       "      <td>913</td>\n",
       "      <td>0.0</td>\n",
       "      <td>480</td>\n",
       "      <td>145</td>\n",
       "    </tr>\n",
       "    <tr>\n",
       "      <th>2</th>\n",
       "      <td>2</td>\n",
       "      <td>Alabama</td>\n",
       "      <td>Samford</td>\n",
       "      <td>1678</td>\n",
       "      <td>0.0</td>\n",
       "      <td>561</td>\n",
       "      <td>166</td>\n",
       "    </tr>\n",
       "    <tr>\n",
       "      <th>3</th>\n",
       "      <td>3</td>\n",
       "      <td>Arizona</td>\n",
       "      <td>Arizona</td>\n",
       "      <td>2035</td>\n",
       "      <td>0.0</td>\n",
       "      <td>668</td>\n",
       "      <td>157</td>\n",
       "    </tr>\n",
       "    <tr>\n",
       "      <th>4</th>\n",
       "      <td>4</td>\n",
       "      <td>Arizona</td>\n",
       "      <td>Arizona State</td>\n",
       "      <td>2457</td>\n",
       "      <td>0.0</td>\n",
       "      <td>590</td>\n",
       "      <td>191</td>\n",
       "    </tr>\n",
       "  </tbody>\n",
       "</table>\n",
       "</div>"
      ],
      "text/plain": [
       "   index    State         School  # Full-Time Applicants  \\\n",
       "0      0  Alabama        Alabama                    2384   \n",
       "1      1  Alabama       Faulkner                     913   \n",
       "2      2  Alabama        Samford                    1678   \n",
       "3      3  Arizona        Arizona                    2035   \n",
       "4      4  Arizona  Arizona State                    2457   \n",
       "\n",
       "   # Part-Time Applicants  # of Offers  # of Matriculants  \n",
       "0                     0.0          543                161  \n",
       "1                     0.0          480                145  \n",
       "2                     0.0          561                166  \n",
       "3                     0.0          668                157  \n",
       "4                     0.0          590                191  "
      ]
     },
     "execution_count": 137,
     "metadata": {},
     "output_type": "execute_result"
    }
   ],
   "source": [
    "df_ss1.head()"
   ]
  },
  {
   "cell_type": "code",
   "execution_count": 138,
   "metadata": {},
   "outputs": [],
   "source": [
    "df_ss2 = df2.sort_values(by = ['State','School']).reset_index()"
   ]
  },
  {
   "cell_type": "code",
   "execution_count": 139,
   "metadata": {},
   "outputs": [
    {
     "data": {
      "text/html": [
       "<div>\n",
       "<style scoped>\n",
       "    .dataframe tbody tr th:only-of-type {\n",
       "        vertical-align: middle;\n",
       "    }\n",
       "\n",
       "    .dataframe tbody tr th {\n",
       "        vertical-align: top;\n",
       "    }\n",
       "\n",
       "    .dataframe thead th {\n",
       "        text-align: right;\n",
       "    }\n",
       "</style>\n",
       "<table border=\"1\" class=\"dataframe\">\n",
       "  <thead>\n",
       "    <tr style=\"text-align: right;\">\n",
       "      <th></th>\n",
       "      <th>index</th>\n",
       "      <th>State</th>\n",
       "      <th>School</th>\n",
       "      <th># Full-Time Applicants</th>\n",
       "      <th># Part-Time Applicants</th>\n",
       "      <th># of Offers</th>\n",
       "      <th># of Matriculants</th>\n",
       "    </tr>\n",
       "  </thead>\n",
       "  <tbody>\n",
       "    <tr>\n",
       "      <th>0</th>\n",
       "      <td>0</td>\n",
       "      <td>Alabama</td>\n",
       "      <td>Alabama</td>\n",
       "      <td>2384</td>\n",
       "      <td>0.0</td>\n",
       "      <td>543</td>\n",
       "      <td>161</td>\n",
       "    </tr>\n",
       "    <tr>\n",
       "      <th>1</th>\n",
       "      <td>1</td>\n",
       "      <td>Alabama</td>\n",
       "      <td>Faulkner</td>\n",
       "      <td>913</td>\n",
       "      <td>0.0</td>\n",
       "      <td>480</td>\n",
       "      <td>145</td>\n",
       "    </tr>\n",
       "    <tr>\n",
       "      <th>2</th>\n",
       "      <td>2</td>\n",
       "      <td>Alabama</td>\n",
       "      <td>Samford</td>\n",
       "      <td>1678</td>\n",
       "      <td>0.0</td>\n",
       "      <td>561</td>\n",
       "      <td>166</td>\n",
       "    </tr>\n",
       "    <tr>\n",
       "      <th>3</th>\n",
       "      <td>3</td>\n",
       "      <td>Arizona</td>\n",
       "      <td>Arizona</td>\n",
       "      <td>2035</td>\n",
       "      <td>0.0</td>\n",
       "      <td>668</td>\n",
       "      <td>157</td>\n",
       "    </tr>\n",
       "    <tr>\n",
       "      <th>4</th>\n",
       "      <td>4</td>\n",
       "      <td>Arizona</td>\n",
       "      <td>Arizona State</td>\n",
       "      <td>2457</td>\n",
       "      <td>0.0</td>\n",
       "      <td>590</td>\n",
       "      <td>191</td>\n",
       "    </tr>\n",
       "  </tbody>\n",
       "</table>\n",
       "</div>"
      ],
      "text/plain": [
       "   index    State         School  # Full-Time Applicants  \\\n",
       "0      0  Alabama        Alabama                    2384   \n",
       "1      1  Alabama       Faulkner                     913   \n",
       "2      2  Alabama        Samford                    1678   \n",
       "3      3  Arizona        Arizona                    2035   \n",
       "4      4  Arizona  Arizona State                    2457   \n",
       "\n",
       "   # Part-Time Applicants  # of Offers  # of Matriculants  \n",
       "0                     0.0          543                161  \n",
       "1                     0.0          480                145  \n",
       "2                     0.0          561                166  \n",
       "3                     0.0          668                157  \n",
       "4                     0.0          590                191  "
      ]
     },
     "execution_count": 139,
     "metadata": {},
     "output_type": "execute_result"
    }
   ],
   "source": [
    "df_ss2.head()"
   ]
  },
  {
   "cell_type": "code",
   "execution_count": 140,
   "metadata": {},
   "outputs": [],
   "source": [
    "df_ss1['State2']=df_ss2['State']"
   ]
  },
  {
   "cell_type": "code",
   "execution_count": 141,
   "metadata": {},
   "outputs": [],
   "source": [
    "df_ss1['School2']=df_ss2['School']"
   ]
  },
  {
   "cell_type": "code",
   "execution_count": 142,
   "metadata": {},
   "outputs": [],
   "source": [
    "df_ss1['# Full-Time Applicants2']=df_ss2['# Full-Time Applicants']"
   ]
  },
  {
   "cell_type": "code",
   "execution_count": 143,
   "metadata": {},
   "outputs": [],
   "source": [
    "df_ss1['# Part-Time Applicants2']=df_ss2['# Part-Time Applicants']"
   ]
  },
  {
   "cell_type": "code",
   "execution_count": 144,
   "metadata": {},
   "outputs": [],
   "source": [
    "df_ss1['# of Offers2']=df_ss2['# of Offers']"
   ]
  },
  {
   "cell_type": "code",
   "execution_count": 145,
   "metadata": {},
   "outputs": [],
   "source": [
    "df_ss1['# of Matriculants2']=df_ss2['# of Matriculants']"
   ]
  },
  {
   "cell_type": "code",
   "execution_count": 146,
   "metadata": {},
   "outputs": [
    {
     "data": {
      "text/html": [
       "<div>\n",
       "<style scoped>\n",
       "    .dataframe tbody tr th:only-of-type {\n",
       "        vertical-align: middle;\n",
       "    }\n",
       "\n",
       "    .dataframe tbody tr th {\n",
       "        vertical-align: top;\n",
       "    }\n",
       "\n",
       "    .dataframe thead th {\n",
       "        text-align: right;\n",
       "    }\n",
       "</style>\n",
       "<table border=\"1\" class=\"dataframe\">\n",
       "  <thead>\n",
       "    <tr style=\"text-align: right;\">\n",
       "      <th></th>\n",
       "      <th>index</th>\n",
       "      <th>State</th>\n",
       "      <th>School</th>\n",
       "      <th># Full-Time Applicants</th>\n",
       "      <th># Part-Time Applicants</th>\n",
       "      <th># of Offers</th>\n",
       "      <th># of Matriculants</th>\n",
       "      <th>State2</th>\n",
       "      <th>School2</th>\n",
       "      <th># Full-Time Applicants2</th>\n",
       "      <th># Part-Time Applicants2</th>\n",
       "      <th># of Offers2</th>\n",
       "      <th># of Matriculants2</th>\n",
       "    </tr>\n",
       "  </thead>\n",
       "  <tbody>\n",
       "    <tr>\n",
       "      <th>0</th>\n",
       "      <td>0</td>\n",
       "      <td>Alabama</td>\n",
       "      <td>Alabama</td>\n",
       "      <td>2384</td>\n",
       "      <td>0.0</td>\n",
       "      <td>543</td>\n",
       "      <td>161</td>\n",
       "      <td>Alabama</td>\n",
       "      <td>Alabama</td>\n",
       "      <td>2384</td>\n",
       "      <td>0.0</td>\n",
       "      <td>543</td>\n",
       "      <td>161</td>\n",
       "    </tr>\n",
       "    <tr>\n",
       "      <th>1</th>\n",
       "      <td>1</td>\n",
       "      <td>Alabama</td>\n",
       "      <td>Faulkner</td>\n",
       "      <td>913</td>\n",
       "      <td>0.0</td>\n",
       "      <td>480</td>\n",
       "      <td>145</td>\n",
       "      <td>Alabama</td>\n",
       "      <td>Faulkner</td>\n",
       "      <td>913</td>\n",
       "      <td>0.0</td>\n",
       "      <td>480</td>\n",
       "      <td>145</td>\n",
       "    </tr>\n",
       "    <tr>\n",
       "      <th>2</th>\n",
       "      <td>2</td>\n",
       "      <td>Alabama</td>\n",
       "      <td>Samford</td>\n",
       "      <td>1678</td>\n",
       "      <td>0.0</td>\n",
       "      <td>561</td>\n",
       "      <td>166</td>\n",
       "      <td>Alabama</td>\n",
       "      <td>Samford</td>\n",
       "      <td>1678</td>\n",
       "      <td>0.0</td>\n",
       "      <td>561</td>\n",
       "      <td>166</td>\n",
       "    </tr>\n",
       "    <tr>\n",
       "      <th>3</th>\n",
       "      <td>3</td>\n",
       "      <td>Arizona</td>\n",
       "      <td>Arizona</td>\n",
       "      <td>2035</td>\n",
       "      <td>0.0</td>\n",
       "      <td>668</td>\n",
       "      <td>157</td>\n",
       "      <td>Arizona</td>\n",
       "      <td>Arizona</td>\n",
       "      <td>2035</td>\n",
       "      <td>0.0</td>\n",
       "      <td>668</td>\n",
       "      <td>157</td>\n",
       "    </tr>\n",
       "    <tr>\n",
       "      <th>4</th>\n",
       "      <td>4</td>\n",
       "      <td>Arizona</td>\n",
       "      <td>Arizona State</td>\n",
       "      <td>2457</td>\n",
       "      <td>0.0</td>\n",
       "      <td>590</td>\n",
       "      <td>191</td>\n",
       "      <td>Arizona</td>\n",
       "      <td>Arizona State</td>\n",
       "      <td>2457</td>\n",
       "      <td>0.0</td>\n",
       "      <td>590</td>\n",
       "      <td>191</td>\n",
       "    </tr>\n",
       "  </tbody>\n",
       "</table>\n",
       "</div>"
      ],
      "text/plain": [
       "   index    State         School  # Full-Time Applicants  \\\n",
       "0      0  Alabama        Alabama                    2384   \n",
       "1      1  Alabama       Faulkner                     913   \n",
       "2      2  Alabama        Samford                    1678   \n",
       "3      3  Arizona        Arizona                    2035   \n",
       "4      4  Arizona  Arizona State                    2457   \n",
       "\n",
       "   # Part-Time Applicants  # of Offers  # of Matriculants   State2  \\\n",
       "0                     0.0          543                161  Alabama   \n",
       "1                     0.0          480                145  Alabama   \n",
       "2                     0.0          561                166  Alabama   \n",
       "3                     0.0          668                157  Arizona   \n",
       "4                     0.0          590                191  Arizona   \n",
       "\n",
       "         School2  # Full-Time Applicants2  # Part-Time Applicants2  \\\n",
       "0        Alabama                     2384                      0.0   \n",
       "1       Faulkner                      913                      0.0   \n",
       "2        Samford                     1678                      0.0   \n",
       "3        Arizona                     2035                      0.0   \n",
       "4  Arizona State                     2457                      0.0   \n",
       "\n",
       "   # of Offers2  # of Matriculants2  \n",
       "0           543                 161  \n",
       "1           480                 145  \n",
       "2           561                 166  \n",
       "3           668                 157  \n",
       "4           590                 191  "
      ]
     },
     "execution_count": 146,
     "metadata": {},
     "output_type": "execute_result"
    }
   ],
   "source": [
    "df_ss1.head()"
   ]
  },
  {
   "cell_type": "code",
   "execution_count": 147,
   "metadata": {},
   "outputs": [
    {
     "data": {
      "text/html": [
       "<div>\n",
       "<style scoped>\n",
       "    .dataframe tbody tr th:only-of-type {\n",
       "        vertical-align: middle;\n",
       "    }\n",
       "\n",
       "    .dataframe tbody tr th {\n",
       "        vertical-align: top;\n",
       "    }\n",
       "\n",
       "    .dataframe thead th {\n",
       "        text-align: right;\n",
       "    }\n",
       "</style>\n",
       "<table border=\"1\" class=\"dataframe\">\n",
       "  <thead>\n",
       "    <tr style=\"text-align: right;\">\n",
       "      <th></th>\n",
       "      <th>index</th>\n",
       "      <th>State</th>\n",
       "      <th>School</th>\n",
       "      <th># Full-Time Applicants</th>\n",
       "      <th># Part-Time Applicants</th>\n",
       "      <th># of Offers</th>\n",
       "      <th># of Matriculants</th>\n",
       "      <th>State2</th>\n",
       "      <th>School2</th>\n",
       "      <th># Full-Time Applicants2</th>\n",
       "      <th># Part-Time Applicants2</th>\n",
       "      <th># of Offers2</th>\n",
       "      <th># of Matriculants2</th>\n",
       "    </tr>\n",
       "  </thead>\n",
       "  <tbody>\n",
       "  </tbody>\n",
       "</table>\n",
       "</div>"
      ],
      "text/plain": [
       "Empty DataFrame\n",
       "Columns: [index, State, School, # Full-Time Applicants, # Part-Time Applicants, # of Offers, # of Matriculants, State2, School2, # Full-Time Applicants2, # Part-Time Applicants2, # of Offers2, # of Matriculants2]\n",
       "Index: []"
      ]
     },
     "execution_count": 147,
     "metadata": {},
     "output_type": "execute_result"
    }
   ],
   "source": [
    "(df_ss1[df_ss1['School']!=df_ss1['School2']])"
   ]
  },
  {
   "cell_type": "code",
   "execution_count": 148,
   "metadata": {},
   "outputs": [
    {
     "data": {
      "text/html": [
       "<div>\n",
       "<style scoped>\n",
       "    .dataframe tbody tr th:only-of-type {\n",
       "        vertical-align: middle;\n",
       "    }\n",
       "\n",
       "    .dataframe tbody tr th {\n",
       "        vertical-align: top;\n",
       "    }\n",
       "\n",
       "    .dataframe thead th {\n",
       "        text-align: right;\n",
       "    }\n",
       "</style>\n",
       "<table border=\"1\" class=\"dataframe\">\n",
       "  <thead>\n",
       "    <tr style=\"text-align: right;\">\n",
       "      <th></th>\n",
       "      <th>index</th>\n",
       "      <th>State</th>\n",
       "      <th>School</th>\n",
       "      <th># Full-Time Applicants</th>\n",
       "      <th># Part-Time Applicants</th>\n",
       "      <th># of Offers</th>\n",
       "      <th># of Matriculants</th>\n",
       "      <th>State2</th>\n",
       "      <th>School2</th>\n",
       "      <th># Full-Time Applicants2</th>\n",
       "      <th># Part-Time Applicants2</th>\n",
       "      <th># of Offers2</th>\n",
       "      <th># of Matriculants2</th>\n",
       "    </tr>\n",
       "  </thead>\n",
       "  <tbody>\n",
       "  </tbody>\n",
       "</table>\n",
       "</div>"
      ],
      "text/plain": [
       "Empty DataFrame\n",
       "Columns: [index, State, School, # Full-Time Applicants, # Part-Time Applicants, # of Offers, # of Matriculants, State2, School2, # Full-Time Applicants2, # Part-Time Applicants2, # of Offers2, # of Matriculants2]\n",
       "Index: []"
      ]
     },
     "execution_count": 148,
     "metadata": {},
     "output_type": "execute_result"
    }
   ],
   "source": [
    "(df_ss1[df_ss1['# Full-Time Applicants']!=df_ss1['# Full-Time Applicants2']])"
   ]
  },
  {
   "cell_type": "code",
   "execution_count": 149,
   "metadata": {},
   "outputs": [
    {
     "data": {
      "text/html": [
       "<div>\n",
       "<style scoped>\n",
       "    .dataframe tbody tr th:only-of-type {\n",
       "        vertical-align: middle;\n",
       "    }\n",
       "\n",
       "    .dataframe tbody tr th {\n",
       "        vertical-align: top;\n",
       "    }\n",
       "\n",
       "    .dataframe thead th {\n",
       "        text-align: right;\n",
       "    }\n",
       "</style>\n",
       "<table border=\"1\" class=\"dataframe\">\n",
       "  <thead>\n",
       "    <tr style=\"text-align: right;\">\n",
       "      <th></th>\n",
       "      <th>index</th>\n",
       "      <th>State</th>\n",
       "      <th>School</th>\n",
       "      <th># Full-Time Applicants</th>\n",
       "      <th># Part-Time Applicants</th>\n",
       "      <th># of Offers</th>\n",
       "      <th># of Matriculants</th>\n",
       "      <th>State2</th>\n",
       "      <th>School2</th>\n",
       "      <th># Full-Time Applicants2</th>\n",
       "      <th># Part-Time Applicants2</th>\n",
       "      <th># of Offers2</th>\n",
       "      <th># of Matriculants2</th>\n",
       "    </tr>\n",
       "  </thead>\n",
       "  <tbody>\n",
       "    <tr>\n",
       "      <th>112</th>\n",
       "      <td>112</td>\n",
       "      <td>New Jersey</td>\n",
       "      <td>Rutgers-Camden</td>\n",
       "      <td>2013</td>\n",
       "      <td>NaN</td>\n",
       "      <td>633</td>\n",
       "      <td>269</td>\n",
       "      <td>New Jersey</td>\n",
       "      <td>Rutgers-Camden</td>\n",
       "      <td>2013</td>\n",
       "      <td>NaN</td>\n",
       "      <td>633</td>\n",
       "      <td>269</td>\n",
       "    </tr>\n",
       "  </tbody>\n",
       "</table>\n",
       "</div>"
      ],
      "text/plain": [
       "     index       State          School  # Full-Time Applicants  \\\n",
       "112    112  New Jersey  Rutgers-Camden                    2013   \n",
       "\n",
       "     # Part-Time Applicants  # of Offers  # of Matriculants      State2  \\\n",
       "112                     NaN          633                269  New Jersey   \n",
       "\n",
       "            School2  # Full-Time Applicants2  # Part-Time Applicants2  \\\n",
       "112  Rutgers-Camden                     2013                      NaN   \n",
       "\n",
       "     # of Offers2  # of Matriculants2  \n",
       "112           633                 269  "
      ]
     },
     "execution_count": 149,
     "metadata": {},
     "output_type": "execute_result"
    }
   ],
   "source": [
    "(df_ss1[df_ss1['# Part-Time Applicants']!=df_ss1['# Part-Time Applicants2']])"
   ]
  },
  {
   "cell_type": "code",
   "execution_count": 150,
   "metadata": {},
   "outputs": [
    {
     "data": {
      "text/html": [
       "<div>\n",
       "<style scoped>\n",
       "    .dataframe tbody tr th:only-of-type {\n",
       "        vertical-align: middle;\n",
       "    }\n",
       "\n",
       "    .dataframe tbody tr th {\n",
       "        vertical-align: top;\n",
       "    }\n",
       "\n",
       "    .dataframe thead th {\n",
       "        text-align: right;\n",
       "    }\n",
       "</style>\n",
       "<table border=\"1\" class=\"dataframe\">\n",
       "  <thead>\n",
       "    <tr style=\"text-align: right;\">\n",
       "      <th></th>\n",
       "      <th>index</th>\n",
       "      <th>State</th>\n",
       "      <th>School</th>\n",
       "      <th># Full-Time Applicants</th>\n",
       "      <th># Part-Time Applicants</th>\n",
       "      <th># of Offers</th>\n",
       "      <th># of Matriculants</th>\n",
       "      <th>State2</th>\n",
       "      <th>School2</th>\n",
       "      <th># Full-Time Applicants2</th>\n",
       "      <th># Part-Time Applicants2</th>\n",
       "      <th># of Offers2</th>\n",
       "      <th># of Matriculants2</th>\n",
       "    </tr>\n",
       "  </thead>\n",
       "  <tbody>\n",
       "  </tbody>\n",
       "</table>\n",
       "</div>"
      ],
      "text/plain": [
       "Empty DataFrame\n",
       "Columns: [index, State, School, # Full-Time Applicants, # Part-Time Applicants, # of Offers, # of Matriculants, State2, School2, # Full-Time Applicants2, # Part-Time Applicants2, # of Offers2, # of Matriculants2]\n",
       "Index: []"
      ]
     },
     "execution_count": 150,
     "metadata": {},
     "output_type": "execute_result"
    }
   ],
   "source": [
    "(df_ss1[df_ss1['# of Offers']!=df_ss1['# of Offers2']])"
   ]
  },
  {
   "cell_type": "code",
   "execution_count": 151,
   "metadata": {},
   "outputs": [
    {
     "data": {
      "text/html": [
       "<div>\n",
       "<style scoped>\n",
       "    .dataframe tbody tr th:only-of-type {\n",
       "        vertical-align: middle;\n",
       "    }\n",
       "\n",
       "    .dataframe tbody tr th {\n",
       "        vertical-align: top;\n",
       "    }\n",
       "\n",
       "    .dataframe thead th {\n",
       "        text-align: right;\n",
       "    }\n",
       "</style>\n",
       "<table border=\"1\" class=\"dataframe\">\n",
       "  <thead>\n",
       "    <tr style=\"text-align: right;\">\n",
       "      <th></th>\n",
       "      <th>index</th>\n",
       "      <th>State</th>\n",
       "      <th>School</th>\n",
       "      <th># Full-Time Applicants</th>\n",
       "      <th># Part-Time Applicants</th>\n",
       "      <th># of Offers</th>\n",
       "      <th># of Matriculants</th>\n",
       "      <th>State2</th>\n",
       "      <th>School2</th>\n",
       "      <th># Full-Time Applicants2</th>\n",
       "      <th># Part-Time Applicants2</th>\n",
       "      <th># of Offers2</th>\n",
       "      <th># of Matriculants2</th>\n",
       "    </tr>\n",
       "  </thead>\n",
       "  <tbody>\n",
       "  </tbody>\n",
       "</table>\n",
       "</div>"
      ],
      "text/plain": [
       "Empty DataFrame\n",
       "Columns: [index, State, School, # Full-Time Applicants, # Part-Time Applicants, # of Offers, # of Matriculants, State2, School2, # Full-Time Applicants2, # Part-Time Applicants2, # of Offers2, # of Matriculants2]\n",
       "Index: []"
      ]
     },
     "execution_count": 151,
     "metadata": {},
     "output_type": "execute_result"
    }
   ],
   "source": [
    "(df_ss1[df_ss1['# of Matriculants']!=df_ss1['# of Matriculants2']]) "
   ]
  },
  {
   "cell_type": "code",
   "execution_count": null,
   "metadata": {},
   "outputs": [],
   "source": []
  }
 ],
 "metadata": {
  "kernelspec": {
   "display_name": "Python 3",
   "language": "python",
   "name": "python3"
  },
  "language_info": {
   "codemirror_mode": {
    "name": "ipython",
    "version": 3
   },
   "file_extension": ".py",
   "mimetype": "text/x-python",
   "name": "python",
   "nbconvert_exporter": "python",
   "pygments_lexer": "ipython3",
   "version": "3.7.3"
  }
 },
 "nbformat": 4,
 "nbformat_minor": 2
}
